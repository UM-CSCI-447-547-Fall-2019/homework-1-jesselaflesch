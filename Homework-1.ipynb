{
 "cells": [
  {
   "cell_type": "markdown",
   "metadata": {},
   "source": [
    "# Homework 1: Reading data and regression\n",
    "## Due September 5th\n",
    "\n",
    "In class we've been working on developing the tools for linear regression.  In this homework, we'll use those tools to show that one of the original 'big data' problems can be solved quite credibly with ordinary least squares.  Note that this exercise is primarily intended to do two things: 1) provide you with some practice gathering data, and 2) evaluate your ability to reason somewhat abstractly about models.  With respect to the second point, it is in your grade's interest to provide complete and well-reasoned answers to narrative questions posed.  A correct answer can be awarded very few points if its reasoning is absent or unclear, and an incorrect answer can be awarded full points if it is well argued.   \n",
    "\n",
    "Please turn in your work via github classroom.\n",
    "\n",
    "## The big one\n",
    "If you've ever lived in an area prone to seismic activity, you know that people are always a little apprehensive about *the big one*, that giant earthquake (Magnitude greater than 7) that is going to break the pots and collapse the overpasses.  However, the big one rarely happens... until it does.  What happens more frequently is smaller earthquakes.  And even more frequently than that, even smaller earthquakes.  In fact, it's long been understood that earthquake frequency has an inverse relationship with magnitude.  Here, we're going to quantify that relationship for the west coast of the US.  \n",
    "\n",
    "## Data wrangling\n",
    "The first thing that we'll need to do is to aquire a dataset that can help us say something about earthquake frequency.  Fortunately, the United States Geologic Survey keeps such a database.  \n",
    "\n",
    "First, navigate to https://earthquake.usgs.gov/earthquakes/search/.  This is the USGS' central repository for earthquake data.  We'll be interested in data from the last twenty years.  Enter the appropriate date.  Next, we're interested in data from the west coast of the lower 48.  Use the Custom Geographic Region button on the right side of the page, followed by the Draw Rectangle on the Map button.  Draw a rectangle around the west coast, from the Canadian to Mexican border.  Next, open the Output Options tab and select .csv (comma separated values, a plain text format).  Finally, under Limit Results, enter 19999 (the site will throw an error if you make this value bigger).  This series of commands will deliver the ~20k most recent earthquakes of all sizes to occur in this region of the world.  It may take a moment for their server to pull your query together. Download the file.\n",
    "\n",
    "Next, import the data into ipython.  This is easily done with [Pandas' read_csv function](https://pandas.pydata.org/pandas-docs/stable/reference/api/pandas.read_csv.html)."
   ]
  },
  {
   "cell_type": "code",
   "execution_count": 2,
   "metadata": {},
   "outputs": [
    {
     "data": {
      "text/html": [
       "<div>\n",
       "<style scoped>\n",
       "    .dataframe tbody tr th:only-of-type {\n",
       "        vertical-align: middle;\n",
       "    }\n",
       "\n",
       "    .dataframe tbody tr th {\n",
       "        vertical-align: top;\n",
       "    }\n",
       "\n",
       "    .dataframe thead th {\n",
       "        text-align: right;\n",
       "    }\n",
       "</style>\n",
       "<table border=\"1\" class=\"dataframe\">\n",
       "  <thead>\n",
       "    <tr style=\"text-align: right;\">\n",
       "      <th></th>\n",
       "      <th>time</th>\n",
       "      <th>latitude</th>\n",
       "      <th>longitude</th>\n",
       "      <th>depth</th>\n",
       "      <th>mag</th>\n",
       "      <th>magType</th>\n",
       "      <th>nst</th>\n",
       "      <th>gap</th>\n",
       "      <th>dmin</th>\n",
       "      <th>rms</th>\n",
       "      <th>...</th>\n",
       "      <th>updated</th>\n",
       "      <th>place</th>\n",
       "      <th>type</th>\n",
       "      <th>horizontalError</th>\n",
       "      <th>depthError</th>\n",
       "      <th>magError</th>\n",
       "      <th>magNst</th>\n",
       "      <th>status</th>\n",
       "      <th>locationSource</th>\n",
       "      <th>magSource</th>\n",
       "    </tr>\n",
       "  </thead>\n",
       "  <tbody>\n",
       "    <tr>\n",
       "      <td>0</td>\n",
       "      <td>2019-09-03T15:05:01.400Z</td>\n",
       "      <td>39.134834</td>\n",
       "      <td>-123.589668</td>\n",
       "      <td>-0.020</td>\n",
       "      <td>3.35</td>\n",
       "      <td>ml</td>\n",
       "      <td>24.0</td>\n",
       "      <td>161.0</td>\n",
       "      <td>0.074710</td>\n",
       "      <td>0.15</td>\n",
       "      <td>...</td>\n",
       "      <td>2019-09-03T19:10:40.014Z</td>\n",
       "      <td>17km ESE of Navarro Head, CA</td>\n",
       "      <td>earthquake</td>\n",
       "      <td>0.51</td>\n",
       "      <td>2.83</td>\n",
       "      <td>0.307</td>\n",
       "      <td>13.0</td>\n",
       "      <td>automatic</td>\n",
       "      <td>nc</td>\n",
       "      <td>nc</td>\n",
       "    </tr>\n",
       "    <tr>\n",
       "      <td>1</td>\n",
       "      <td>2019-09-03T12:41:59.250Z</td>\n",
       "      <td>35.645833</td>\n",
       "      <td>-117.496167</td>\n",
       "      <td>4.520</td>\n",
       "      <td>2.64</td>\n",
       "      <td>ml</td>\n",
       "      <td>38.0</td>\n",
       "      <td>37.0</td>\n",
       "      <td>0.046200</td>\n",
       "      <td>0.18</td>\n",
       "      <td>...</td>\n",
       "      <td>2019-09-03T15:05:42.231Z</td>\n",
       "      <td>16km SSW of Searles Valley, CA</td>\n",
       "      <td>earthquake</td>\n",
       "      <td>0.22</td>\n",
       "      <td>0.55</td>\n",
       "      <td>0.132</td>\n",
       "      <td>25.0</td>\n",
       "      <td>automatic</td>\n",
       "      <td>ci</td>\n",
       "      <td>ci</td>\n",
       "    </tr>\n",
       "    <tr>\n",
       "      <td>2</td>\n",
       "      <td>2019-09-03T08:23:33.250Z</td>\n",
       "      <td>36.199000</td>\n",
       "      <td>-117.885000</td>\n",
       "      <td>2.540</td>\n",
       "      <td>2.59</td>\n",
       "      <td>ml</td>\n",
       "      <td>34.0</td>\n",
       "      <td>61.0</td>\n",
       "      <td>0.084830</td>\n",
       "      <td>0.21</td>\n",
       "      <td>...</td>\n",
       "      <td>2019-09-03T08:34:40.240Z</td>\n",
       "      <td>14km SE of Olancha, CA</td>\n",
       "      <td>earthquake</td>\n",
       "      <td>0.32</td>\n",
       "      <td>1.83</td>\n",
       "      <td>0.177</td>\n",
       "      <td>24.0</td>\n",
       "      <td>automatic</td>\n",
       "      <td>ci</td>\n",
       "      <td>ci</td>\n",
       "    </tr>\n",
       "    <tr>\n",
       "      <td>3</td>\n",
       "      <td>2019-09-03T03:41:29.170Z</td>\n",
       "      <td>35.703000</td>\n",
       "      <td>-117.588667</td>\n",
       "      <td>7.100</td>\n",
       "      <td>3.47</td>\n",
       "      <td>mw</td>\n",
       "      <td>48.0</td>\n",
       "      <td>40.0</td>\n",
       "      <td>0.082340</td>\n",
       "      <td>0.13</td>\n",
       "      <td>...</td>\n",
       "      <td>2019-09-03T16:38:26.278Z</td>\n",
       "      <td>12km NE of Ridgecrest, CA</td>\n",
       "      <td>earthquake</td>\n",
       "      <td>0.11</td>\n",
       "      <td>0.31</td>\n",
       "      <td>NaN</td>\n",
       "      <td>6.0</td>\n",
       "      <td>reviewed</td>\n",
       "      <td>ci</td>\n",
       "      <td>ci</td>\n",
       "    </tr>\n",
       "    <tr>\n",
       "      <td>4</td>\n",
       "      <td>2019-09-03T03:28:37.320Z</td>\n",
       "      <td>35.631000</td>\n",
       "      <td>-117.434333</td>\n",
       "      <td>2.970</td>\n",
       "      <td>2.67</td>\n",
       "      <td>ml</td>\n",
       "      <td>38.0</td>\n",
       "      <td>56.0</td>\n",
       "      <td>0.035130</td>\n",
       "      <td>0.14</td>\n",
       "      <td>...</td>\n",
       "      <td>2019-09-03T11:31:11.930Z</td>\n",
       "      <td>15km S of Searles Valley, CA</td>\n",
       "      <td>earthquake</td>\n",
       "      <td>0.18</td>\n",
       "      <td>0.29</td>\n",
       "      <td>0.208</td>\n",
       "      <td>25.0</td>\n",
       "      <td>automatic</td>\n",
       "      <td>ci</td>\n",
       "      <td>ci</td>\n",
       "    </tr>\n",
       "    <tr>\n",
       "      <td>...</td>\n",
       "      <td>...</td>\n",
       "      <td>...</td>\n",
       "      <td>...</td>\n",
       "      <td>...</td>\n",
       "      <td>...</td>\n",
       "      <td>...</td>\n",
       "      <td>...</td>\n",
       "      <td>...</td>\n",
       "      <td>...</td>\n",
       "      <td>...</td>\n",
       "      <td>...</td>\n",
       "      <td>...</td>\n",
       "      <td>...</td>\n",
       "      <td>...</td>\n",
       "      <td>...</td>\n",
       "      <td>...</td>\n",
       "      <td>...</td>\n",
       "      <td>...</td>\n",
       "      <td>...</td>\n",
       "      <td>...</td>\n",
       "      <td>...</td>\n",
       "    </tr>\n",
       "    <tr>\n",
       "      <td>19994</td>\n",
       "      <td>2003-04-22T10:06:23.540Z</td>\n",
       "      <td>40.654167</td>\n",
       "      <td>-124.850000</td>\n",
       "      <td>3.794</td>\n",
       "      <td>2.70</td>\n",
       "      <td>md</td>\n",
       "      <td>22.0</td>\n",
       "      <td>302.0</td>\n",
       "      <td>1.172000</td>\n",
       "      <td>0.14</td>\n",
       "      <td>...</td>\n",
       "      <td>2017-01-04T00:04:41.697Z</td>\n",
       "      <td>offshore Northern California</td>\n",
       "      <td>earthquake</td>\n",
       "      <td>4.75</td>\n",
       "      <td>13.27</td>\n",
       "      <td>0.100</td>\n",
       "      <td>6.0</td>\n",
       "      <td>reviewed</td>\n",
       "      <td>nc</td>\n",
       "      <td>nc</td>\n",
       "    </tr>\n",
       "    <tr>\n",
       "      <td>19995</td>\n",
       "      <td>2003-04-21T15:59:40.950Z</td>\n",
       "      <td>36.562167</td>\n",
       "      <td>-120.725333</td>\n",
       "      <td>10.030</td>\n",
       "      <td>2.84</td>\n",
       "      <td>md</td>\n",
       "      <td>51.0</td>\n",
       "      <td>76.0</td>\n",
       "      <td>0.114400</td>\n",
       "      <td>0.17</td>\n",
       "      <td>...</td>\n",
       "      <td>2017-01-04T00:02:37.790Z</td>\n",
       "      <td>Central California</td>\n",
       "      <td>earthquake</td>\n",
       "      <td>0.34</td>\n",
       "      <td>0.49</td>\n",
       "      <td>0.100</td>\n",
       "      <td>76.0</td>\n",
       "      <td>reviewed</td>\n",
       "      <td>nc</td>\n",
       "      <td>nc</td>\n",
       "    </tr>\n",
       "    <tr>\n",
       "      <td>19996</td>\n",
       "      <td>2003-04-21T15:46:45.670Z</td>\n",
       "      <td>36.562167</td>\n",
       "      <td>-120.708500</td>\n",
       "      <td>12.610</td>\n",
       "      <td>3.51</td>\n",
       "      <td>ml</td>\n",
       "      <td>102.0</td>\n",
       "      <td>46.0</td>\n",
       "      <td>0.121600</td>\n",
       "      <td>0.12</td>\n",
       "      <td>...</td>\n",
       "      <td>2017-03-17T17:24:08.157Z</td>\n",
       "      <td>Central California</td>\n",
       "      <td>earthquake</td>\n",
       "      <td>0.15</td>\n",
       "      <td>0.33</td>\n",
       "      <td>NaN</td>\n",
       "      <td>14.0</td>\n",
       "      <td>reviewed</td>\n",
       "      <td>nc</td>\n",
       "      <td>nc</td>\n",
       "    </tr>\n",
       "    <tr>\n",
       "      <td>19997</td>\n",
       "      <td>2003-04-20T21:49:25.290Z</td>\n",
       "      <td>38.822500</td>\n",
       "      <td>-122.767833</td>\n",
       "      <td>1.273</td>\n",
       "      <td>2.73</td>\n",
       "      <td>md</td>\n",
       "      <td>43.0</td>\n",
       "      <td>50.0</td>\n",
       "      <td>0.003604</td>\n",
       "      <td>0.07</td>\n",
       "      <td>...</td>\n",
       "      <td>2017-01-03T23:59:45.010Z</td>\n",
       "      <td>Northern California</td>\n",
       "      <td>earthquake</td>\n",
       "      <td>0.15</td>\n",
       "      <td>0.19</td>\n",
       "      <td>0.140</td>\n",
       "      <td>36.0</td>\n",
       "      <td>reviewed</td>\n",
       "      <td>nc</td>\n",
       "      <td>nc</td>\n",
       "    </tr>\n",
       "    <tr>\n",
       "      <td>19998</td>\n",
       "      <td>2003-04-20T00:32:55.720Z</td>\n",
       "      <td>39.649667</td>\n",
       "      <td>-122.192167</td>\n",
       "      <td>38.094</td>\n",
       "      <td>2.58</td>\n",
       "      <td>md</td>\n",
       "      <td>32.0</td>\n",
       "      <td>31.0</td>\n",
       "      <td>0.192800</td>\n",
       "      <td>0.25</td>\n",
       "      <td>...</td>\n",
       "      <td>2017-01-03T23:56:27.390Z</td>\n",
       "      <td>Northern California</td>\n",
       "      <td>earthquake</td>\n",
       "      <td>0.49</td>\n",
       "      <td>1.61</td>\n",
       "      <td>0.160</td>\n",
       "      <td>28.0</td>\n",
       "      <td>reviewed</td>\n",
       "      <td>nc</td>\n",
       "      <td>nc</td>\n",
       "    </tr>\n",
       "  </tbody>\n",
       "</table>\n",
       "<p>19999 rows × 22 columns</p>\n",
       "</div>"
      ],
      "text/plain": [
       "                           time   latitude   longitude   depth   mag magType  \\\n",
       "0      2019-09-03T15:05:01.400Z  39.134834 -123.589668  -0.020  3.35      ml   \n",
       "1      2019-09-03T12:41:59.250Z  35.645833 -117.496167   4.520  2.64      ml   \n",
       "2      2019-09-03T08:23:33.250Z  36.199000 -117.885000   2.540  2.59      ml   \n",
       "3      2019-09-03T03:41:29.170Z  35.703000 -117.588667   7.100  3.47      mw   \n",
       "4      2019-09-03T03:28:37.320Z  35.631000 -117.434333   2.970  2.67      ml   \n",
       "...                         ...        ...         ...     ...   ...     ...   \n",
       "19994  2003-04-22T10:06:23.540Z  40.654167 -124.850000   3.794  2.70      md   \n",
       "19995  2003-04-21T15:59:40.950Z  36.562167 -120.725333  10.030  2.84      md   \n",
       "19996  2003-04-21T15:46:45.670Z  36.562167 -120.708500  12.610  3.51      ml   \n",
       "19997  2003-04-20T21:49:25.290Z  38.822500 -122.767833   1.273  2.73      md   \n",
       "19998  2003-04-20T00:32:55.720Z  39.649667 -122.192167  38.094  2.58      md   \n",
       "\n",
       "         nst    gap      dmin   rms  ...                   updated  \\\n",
       "0       24.0  161.0  0.074710  0.15  ...  2019-09-03T19:10:40.014Z   \n",
       "1       38.0   37.0  0.046200  0.18  ...  2019-09-03T15:05:42.231Z   \n",
       "2       34.0   61.0  0.084830  0.21  ...  2019-09-03T08:34:40.240Z   \n",
       "3       48.0   40.0  0.082340  0.13  ...  2019-09-03T16:38:26.278Z   \n",
       "4       38.0   56.0  0.035130  0.14  ...  2019-09-03T11:31:11.930Z   \n",
       "...      ...    ...       ...   ...  ...                       ...   \n",
       "19994   22.0  302.0  1.172000  0.14  ...  2017-01-04T00:04:41.697Z   \n",
       "19995   51.0   76.0  0.114400  0.17  ...  2017-01-04T00:02:37.790Z   \n",
       "19996  102.0   46.0  0.121600  0.12  ...  2017-03-17T17:24:08.157Z   \n",
       "19997   43.0   50.0  0.003604  0.07  ...  2017-01-03T23:59:45.010Z   \n",
       "19998   32.0   31.0  0.192800  0.25  ...  2017-01-03T23:56:27.390Z   \n",
       "\n",
       "                                place        type horizontalError depthError  \\\n",
       "0        17km ESE of Navarro Head, CA  earthquake            0.51       2.83   \n",
       "1      16km SSW of Searles Valley, CA  earthquake            0.22       0.55   \n",
       "2              14km SE of Olancha, CA  earthquake            0.32       1.83   \n",
       "3           12km NE of Ridgecrest, CA  earthquake            0.11       0.31   \n",
       "4        15km S of Searles Valley, CA  earthquake            0.18       0.29   \n",
       "...                               ...         ...             ...        ...   \n",
       "19994    offshore Northern California  earthquake            4.75      13.27   \n",
       "19995              Central California  earthquake            0.34       0.49   \n",
       "19996              Central California  earthquake            0.15       0.33   \n",
       "19997             Northern California  earthquake            0.15       0.19   \n",
       "19998             Northern California  earthquake            0.49       1.61   \n",
       "\n",
       "       magError  magNst     status  locationSource magSource  \n",
       "0         0.307    13.0  automatic              nc        nc  \n",
       "1         0.132    25.0  automatic              ci        ci  \n",
       "2         0.177    24.0  automatic              ci        ci  \n",
       "3           NaN     6.0   reviewed              ci        ci  \n",
       "4         0.208    25.0  automatic              ci        ci  \n",
       "...         ...     ...        ...             ...       ...  \n",
       "19994     0.100     6.0   reviewed              nc        nc  \n",
       "19995     0.100    76.0   reviewed              nc        nc  \n",
       "19996       NaN    14.0   reviewed              nc        nc  \n",
       "19997     0.140    36.0   reviewed              nc        nc  \n",
       "19998     0.160    28.0   reviewed              nc        nc  \n",
       "\n",
       "[19999 rows x 22 columns]"
      ]
     },
     "execution_count": 2,
     "metadata": {},
     "output_type": "execute_result"
    }
   ],
   "source": [
    "# Use pandas to import the earthquake data file here\n",
    "import pandas as p\n",
    "\n",
    "df = p.read_csv('query.csv')\n",
    "df"
   ]
  },
  {
   "cell_type": "markdown",
   "metadata": {},
   "source": [
    "Interrogate the Pandas dataframe for the available fields using its built in method 'keys'\n"
   ]
  },
  {
   "cell_type": "code",
   "execution_count": 3,
   "metadata": {},
   "outputs": [
    {
     "data": {
      "text/plain": [
       "Index(['time', 'latitude', 'longitude', 'depth', 'mag', 'magType', 'nst',\n",
       "       'gap', 'dmin', 'rms', 'net', 'id', 'updated', 'place', 'type',\n",
       "       'horizontalError', 'depthError', 'magError', 'magNst', 'status',\n",
       "       'locationSource', 'magSource'],\n",
       "      dtype='object')"
      ]
     },
     "execution_count": 3,
     "metadata": {},
     "output_type": "execute_result"
    }
   ],
   "source": [
    "df.keys()"
   ]
  },
  {
   "cell_type": "markdown",
   "metadata": {},
   "source": [
    "We're primarily interested in determining the relationship between relative frequency and magnitude.  Extract the magnitude variable from the pandas data frame using the 'mag' key.  \n",
    "\n",
    "Next, you'll need to determine the number of earthquakes that occured in the data as a function of magnitude.  This is easily done by deciding on a set of bins, and then counting the number of items in each bin.  This is also known as a [histogram](https://docs.scipy.org/doc/numpy/reference/generated/numpy.histogram.html), and is easily computed using either numpy or matplotlib.  You'll want to use a fairly large number of bins, say 50 (equally spaced).  *Note that the histogram function provided by either of the above libraries returns total counts rather than relative frequencies: you'll need to compute relative frequencies by dividing the returned counts by the total number of earthquakes in the dataset.*"
   ]
  },
  {
   "cell_type": "code",
   "execution_count": 5,
   "metadata": {},
   "outputs": [
    {
     "data": {
      "image/png": "[encoded data removed]",
      "text/plain": [
       "<Figure size 432x288 with 1 Axes>"
      ]
     },
     "metadata": {},
     "output_type": "display_data"
    }
   ],
   "source": [
    "magData = df.mag\n",
    "\n",
    "import matplotlib.pyplot as plt\n",
    "\n",
    "counts,bins,patches = plt.hist(magData, 50, [2.45,5.5])"
   ]
  },
  {
   "cell_type": "markdown",
   "metadata": {},
   "source": [
    "**(20 pts) Make a plot with bin centroids on the $x$-axis and relative frequency on the $y$-axis.  Based on your results, please provide a few sentences describing whether the model $y = w_0 + w_1 x$ is a good fit to the data, if $x$ represents earthquake magnitude and $y$ represents relative frequency.**\n",
    "\n",
    "The old model is linear in terms of x and this model is an exponential in terms of x. "
   ]
  },
  {
   "cell_type": "code",
   "execution_count": 6,
   "metadata": {},
   "outputs": [
    {
     "data": {
      "text/plain": [
       "<matplotlib.collections.PathCollection at 0x7f0441f0c6d8>"
      ]
     },
     "execution_count": 6,
     "metadata": {},
     "output_type": "execute_result"
    },
    {
     "data": {
      "image/png": "[encoded data removed]",
      "text/plain": [
       "<Figure size 432x288 with 1 Axes>"
      ]
     },
     "metadata": {},
     "output_type": "display_data"
    }
   ],
   "source": [
    "import numpy as np\n",
    "\n",
    "bins2 = np.arange(50)\n",
    "freq = counts/19999\n",
    "plt.scatter(bins2, freq)"
   ]
  },
  {
   "cell_type": "markdown",
   "metadata": {},
   "source": [
    "As it turns out, a physical model that gives the predicted relative frequency of earthquakes of different magnitudes can be derived from physics, and is given by a so-called *power-law*\n",
    "$$\n",
    "y = ax^b\n",
    "$$\n",
    "**(20pts) If you wanted to directly fit this power-law model to these data, would you be able to use the linear regression code that we've already developed to do so?  If so, how?  If not, why not?**\n",
    "\n",
    "No. It's not linear in terms of our parameters and in order for it to work, it would have to be linear in terms of the parameters."
   ]
  },
  {
   "cell_type": "markdown",
   "metadata": {},
   "source": [
    "As it turns out, it is not possible to use linear regression to fit this model directly.  However, it can be done by using a clever transformation of the data.  **(20pts) Plot the base-10 logarithm of the event counts.  Now does a linear model seem like a good fit?  If the power law is a good fit to the untransformed data, why does it make sense that a linear model should fit the log-transformed data (HINT: take the logarithm of both sides of the power law)**\n",
    "\n",
    "**(UPDATE!)** I should have noted this before: The earthquake magnitude $x$ has *already* been log-transformed, which is to say that a magnitude 7 is 10 times more powerful than a magnitude 6.  The power law stated above applies to the earthquake strength prior to it having the logarithm taken.  As such, a more reasonable way to state the question would be as follows: A physical model that gives the predicted relative frequency of earthquakes of different magnitudes can be derived from physics and is given by a so-called *power-law*\n",
    "$$\n",
    "y = a P^b,\n",
    "$$\n",
    "where $P=10^x$. Show that taking the logarithm of both sides of this equation leads to a linear relationship between the earthquake magnitude $x$ and the log-frequency $\\text{log}_{10}(y)$. \n",
    "\n",
    "If you use the rules of logarithms to expand, then you get log(a) + blog(P) = $\\text{log}_{P}(y)$ . This gives us a linear equation and will work with our linear model."
   ]
  },
  {
   "cell_type": "code",
   "execution_count": 7,
   "metadata": {},
   "outputs": [
    {
     "data": {
      "text/plain": [
       "<matplotlib.collections.PathCollection at 0x7f0444a7b7b8>"
      ]
     },
     "execution_count": 7,
     "metadata": {},
     "output_type": "execute_result"
    },
    {
     "data": {
      "image/png": "[encoded data removed]",
      "text/plain": [
       "<Figure size 432x288 with 1 Axes>"
      ]
     },
     "metadata": {},
     "output_type": "display_data"
    }
   ],
   "source": [
    "logFreq = np.log10(freq)\n",
    "plt.scatter(bins2, logFreq)"
   ]
  },
  {
   "cell_type": "markdown",
   "metadata": {},
   "source": [
    "Finally, **(40pts) use one of the methods that you developed for linear regression in class to fit a line to the log-transformed counts.  What is the slope of that line?  Is the model a good fit for all sizes of earthquake?**\n",
    "\n",
    "The slope is -0.06408101162010063. I think this would be a good model for most earthquakes. There are a few outliers that might pose a problem for the model, however. But most of the time, I think it would be a good model."
   ]
  },
  {
   "cell_type": "code",
   "execution_count": 11,
   "metadata": {},
   "outputs": [
    {
     "name": "stdout",
     "output_type": "stream",
     "text": [
      "-0.06408101162010063\n"
     ]
    },
    {
     "data": {
      "image/png": "[encoded data removed]",
      "text/plain": [
       "<Figure size 432x288 with 1 Axes>"
      ]
     },
     "metadata": {},
     "output_type": "display_data"
    }
   ],
   "source": [
    "from numpy.linalg import inv\n",
    "\n",
    "y = logFreq\n",
    "x = bins2\n",
    "\n",
    "matrix_x = np.ones([len(x), 2])\n",
    "matrix_x[:,1] = x\n",
    "\n",
    "#print(matrix_x)\n",
    "\n",
    "matrix_x_transpose = np.transpose(matrix_x)\n",
    "matrix_x_tran_inv = inv(np.dot(matrix_x_transpose, matrix_x))\n",
    "matrix_x_tran_inv_tran = np.dot(matrix_x_tran_inv, matrix_x_transpose)\n",
    "\n",
    "matrix_w = np.dot(matrix_x_tran_inv_tran, y)\n",
    "\n",
    "plt.plot(x,y,'ro')\n",
    "plt.plot(x,matrix_w[0] + matrix_w[1]*x,'b-')\n",
    "\n",
    "print(matrix_w[1])\n",
    "\n",
    "plt.xlabel('Bin centroids')\n",
    "plt.ylabel('Relative Frequencies')\n",
    "plt.show()"
   ]
  },
  {
   "cell_type": "code",
   "execution_count": null,
   "metadata": {},
   "outputs": [],
   "source": []
  }
 ],
 "metadata": {
  "kernelspec": {
   "display_name": "Python 3",
   "language": "python",
   "name": "python3"
  },
  "language_info": {
   "codemirror_mode": {
    "name": "ipython",
    "version": 3
   },
   "file_extension": ".py",
   "mimetype": "text/x-python",
   "name": "python",
   "nbconvert_exporter": "python",
   "pygments_lexer": "ipython3",
   "version": "3.6.8"
  }
 },
 "nbformat": 4,
 "nbformat_minor": 2
}
